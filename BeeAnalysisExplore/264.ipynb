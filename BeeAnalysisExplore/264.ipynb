{
 "cells": [
  {
   "cell_type": "code",
   "execution_count": 1,
   "metadata": {},
   "outputs": [],
   "source": [
    "import subprocess \n",
    "import cv2\n",
    "import ffmpeg\n",
    "import os \n",
    "import numpy as np\n",
    "import matplotlib.pyplot as plt"
   ]
  },
  {
   "cell_type": "code",
   "execution_count": 2,
   "metadata": {},
   "outputs": [
    {
     "data": {
      "text/plain": [
       "'\\n! here is an attempt to clean the file\\n'"
      ]
     },
     "execution_count": 2,
     "metadata": {},
     "output_type": "execute_result"
    }
   ],
   "source": [
    "filepath = \"2021-10-13 04:32:22.416976.h264\"\n",
    "\"\"\"\n",
    "! here is an attempt to clean the file\n",
    "\"\"\"\n",
    "\n",
    "\n",
    "# subprocess.run(\n",
    "#     [\n",
    "#         \"ffmpeg\",\n",
    "#         \"-i\",\n",
    "#         \"2021-10-13 04:32:22.416976.h264\",\n",
    "#         \"-vf\",\n",
    "#         \"fps=25\",\n",
    "#         \"-vcodec\",\n",
    "#         \"libx264\",\n",
    "#         \"output.h264\",\n",
    "#     ]\n",
    "# )\n"
   ]
  },
  {
   "cell_type": "code",
   "execution_count": 3,
   "metadata": {},
   "outputs": [
    {
     "data": {
      "text/plain": [
       "'\\n! TO GET THE PROCESSED MP4\\n'"
      ]
     },
     "execution_count": 3,
     "metadata": {},
     "output_type": "execute_result"
    }
   ],
   "source": [
    "\"\"\"\n",
    "! TO GET THE PROCESSED MP4\n",
    "\"\"\"\n",
    "# subprocess.run(\n",
    "#     [\n",
    "#         \"ffmpeg\",\n",
    "#         \"-i\",\n",
    "#         \"2021-10-13 04:32:22.416976.h264\",\n",
    "#         \"-vf\",\n",
    "#         \"fps=25\",\n",
    "#         \"-vcodec\",\n",
    "#         \"libx264\",\n",
    "#         \"output.mp4\",\n",
    "#     ]\n",
    "# )"
   ]
  },
  {
   "cell_type": "code",
   "execution_count": 4,
   "metadata": {},
   "outputs": [
    {
     "name": "stdout",
     "output_type": "stream",
     "text": [
      "Number of frames: -192153584101141.0\n",
      "Frame height: 1080.0\n",
      "Frame width: 1440.0\n",
      "Frame rate: 25.0\n"
     ]
    }
   ],
   "source": [
    "\"\"\"\n",
    "! The Problem, is, as you can see below, that the video files can be corrupted...\n",
    "at least I can't get number of frames for a .h264 video file\n",
    "Hopefully, I can play back the video for the the duration of the video\n",
    "\"\"\"\n",
    "path = os.path.join(\"2021-10-13 04:32:22.416976.h264\")\n",
    "cap = cv2.VideoCapture(path)\n",
    "n_frames = cap.get(cv2.CAP_PROP_FRAME_COUNT)\n",
    "height = cap.get(cv2.CAP_PROP_FRAME_HEIGHT)\n",
    "video_width = cap.get(cv2.CAP_PROP_FRAME_WIDTH)\n",
    "fps = cap.get(cv2.CAP_PROP_FPS)\n",
    "print(f\"Number of frames: {cap.get(cv2.CAP_PROP_FRAME_COUNT)}\")\n",
    "print(f\"Frame height: {height}\")\n",
    "print(f\"Frame width: {video_width}\")\n",
    "print(f\"Frame rate: {fps}\")\n",
    "cap.release()"
   ]
  },
  {
   "cell_type": "code",
   "execution_count": 5,
   "metadata": {},
   "outputs": [
    {
     "name": "stdout",
     "output_type": "stream",
     "text": [
      "Number of frames given cleaned h264 Video: -192153584101141.0\n"
     ]
    }
   ],
   "source": [
    "path = os.path.join(\"output.h264\")\n",
    "cap = cv2.VideoCapture(path)\n",
    "\n",
    "n_frames = cap.get(cv2.CAP_PROP_FRAME_COUNT)\n",
    "print(f\"Number of frames given cleaned h264 Video: {cap.get(cv2.CAP_PROP_FRAME_COUNT)}\")\n",
    "cap.release()"
   ]
  },
  {
   "cell_type": "code",
   "execution_count": 6,
   "metadata": {},
   "outputs": [
    {
     "name": "stdout",
     "output_type": "stream",
     "text": [
      "Number of frames given cleaned mp4 Video: 3595.0\n"
     ]
    }
   ],
   "source": [
    "path = os.path.join(\"output.mp4\")\n",
    "cap = cv2.VideoCapture(path)\n",
    "n_frames = cap.get(cv2.CAP_PROP_FRAME_COUNT)\n",
    "print(f\"Number of frames given cleaned mp4 Video: {cap.get(cv2.CAP_PROP_FRAME_COUNT)}\")\n",
    "cap.release()"
   ]
  },
  {
   "cell_type": "code",
   "execution_count": 7,
   "metadata": {},
   "outputs": [
    {
     "data": {
      "text/plain": [
       "\"\\n? Can we render these videos correctly though?\\n\\n! We can't in jupyter notebook becasuse of sussy bugs\\n\""
      ]
     },
     "execution_count": 7,
     "metadata": {},
     "output_type": "execute_result"
    }
   ],
   "source": [
    "\"\"\"\n",
    "? Can we render these videos correctly though?\n",
    "\n",
    "! We can't in jupyter notebook becasuse of sussy bugs\n",
    "\"\"\"\n",
    "\n",
    "# path = os.path.join(\"2021-10-13 04:32:22.416976.h264\")\n",
    "# cap = cv2.VideoCapture(path)\n",
    "# count = 0\n",
    "# while cap.isOpened():\n",
    "#     ret, frame = cap.read()\n",
    "    \n",
    "#     if frame is None:\n",
    "#         break;\n",
    "#     if not ret:\n",
    "#         break\n",
    "#     if ret and frame is not None:\n",
    "#         count += 1\n",
    "#         cv2.imshow(\"frame\", frame)\n",
    "#         if cv2.waitKey(1) & 0xFF == ord(\"q\"):\n",
    "#             break\n",
    "    \n",
    "# cap.release()\n",
    "# cv2.destroyAllWindows()\n"
   ]
  },
  {
   "cell_type": "code",
   "execution_count": 8,
   "metadata": {},
   "outputs": [
    {
     "data": {
      "text/plain": [
       "\"\\n* Since were able to gather information about frame count from the video, we don't need to use CV2 to get frame count\\n! Let's not\\n\""
      ]
     },
     "execution_count": 8,
     "metadata": {},
     "output_type": "execute_result"
    }
   ],
   "source": [
    "\"\"\"\n",
    "* Since were able to gather information about frame count from the video, we don't need to use CV2 to get frame count\n",
    "! Let's not\n",
    "\"\"\""
   ]
  }
 ],
 "metadata": {
  "kernelspec": {
   "display_name": "venv",
   "language": "python",
   "name": "python3"
  },
  "language_info": {
   "codemirror_mode": {
    "name": "ipython",
    "version": 3
   },
   "file_extension": ".py",
   "mimetype": "text/x-python",
   "name": "python",
   "nbconvert_exporter": "python",
   "pygments_lexer": "ipython3",
   "version": "3.9.18"
  }
 },
 "nbformat": 4,
 "nbformat_minor": 2
}
